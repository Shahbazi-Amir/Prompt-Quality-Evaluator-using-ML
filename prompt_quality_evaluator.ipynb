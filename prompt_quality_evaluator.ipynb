{
 "cells": [
  {
   "cell_type": "code",
   "execution_count": 1,
   "id": "a99627b0",
   "metadata": {},
   "outputs": [
    {
     "name": "stdout",
     "output_type": "stream",
     "text": [
      "                                              prompt  \\\n",
      "0    Explain the concept of gravity in simple terms.   \n",
      "1    Explain the concept of gravity in simple terms.   \n",
      "2    Explain the concept of gravity in simple terms.   \n",
      "3     Summarize the story of Little Red Riding Hood.   \n",
      "4     Summarize the story of Little Red Riding Hood.   \n",
      "5     Summarize the story of Little Red Riding Hood.   \n",
      "6  Translate the sentence 'Knowledge is power' in...   \n",
      "7  Translate the sentence 'Knowledge is power' in...   \n",
      "8  Translate the sentence 'Knowledge is power' in...   \n",
      "\n",
      "                                            response  response_id  \\\n",
      "0  Gravity is the force by which a planet or othe...            1   \n",
      "1  Gravity is like a magnet that pulls things dow...            2   \n",
      "2                  Gravity is when things fall down.            3   \n",
      "3  Little Red Riding Hood is a story about a girl...            1   \n",
      "4          A girl wears a red hood and meets a wolf.            2   \n",
      "5                                 A girl and a wolf.            3   \n",
      "6                    La connaissance est le pouvoir.            1   \n",
      "7                                Savoir c'est force.            2   \n",
      "8                        Connaissance est puissance.            3   \n",
      "\n",
      "   quality_label  \n",
      "0              2  \n",
      "1              1  \n",
      "2              0  \n",
      "3              2  \n",
      "4              1  \n",
      "5              0  \n",
      "6              2  \n",
      "7              1  \n",
      "8              0  \n"
     ]
    }
   ],
   "source": [
    "import pandas as pd\n",
    "\n",
    "# فرض کن فایل CSV رو بارگذاری کردی\n",
    "df = pd.read_csv('prompt_response_dataset.csv')\n",
    "\n",
    "# تعداد پرامپت‌ها (تعداد کل ردیف تقسیم بر 3)\n",
    "num_prompts = len(df) // 3\n",
    "\n",
    "labels = []\n",
    "for _ in range(num_prompts):\n",
    "    labels.extend([2, 1, 0])\n",
    "\n",
    "df['quality_label'] = labels\n",
    "\n",
    "print(df.head(9))\n"
   ]
  }
 ],
 "metadata": {
  "kernelspec": {
   "display_name": "Python 3",
   "language": "python",
   "name": "python3"
  },
  "language_info": {
   "codemirror_mode": {
    "name": "ipython",
    "version": 3
   },
   "file_extension": ".py",
   "mimetype": "text/x-python",
   "name": "python",
   "nbconvert_exporter": "python",
   "pygments_lexer": "ipython3",
   "version": "3.11.3"
  }
 },
 "nbformat": 4,
 "nbformat_minor": 5
}
