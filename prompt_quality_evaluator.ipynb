{
 "cells": [
  {
   "cell_type": "code",
   "execution_count": 10,
   "id": "a99627b0",
   "metadata": {},
   "outputs": [
    {
     "name": "stdout",
     "output_type": "stream",
     "text": [
      "                                              prompt  \\\n",
      "0    Explain the concept of gravity in simple terms.   \n",
      "1    Explain the concept of gravity in simple terms.   \n",
      "2    Explain the concept of gravity in simple terms.   \n",
      "3     Summarize the story of Little Red Riding Hood.   \n",
      "4     Summarize the story of Little Red Riding Hood.   \n",
      "5     Summarize the story of Little Red Riding Hood.   \n",
      "6  Translate the sentence 'Knowledge is power' in...   \n",
      "7  Translate the sentence 'Knowledge is power' in...   \n",
      "8  Translate the sentence 'Knowledge is power' in...   \n",
      "\n",
      "                                            response  response_id  \\\n",
      "0  Gravity is the force by which a planet or othe...            1   \n",
      "1  Gravity is like a magnet that pulls things dow...            2   \n",
      "2                  Gravity is when things fall down.            3   \n",
      "3  Little Red Riding Hood is a story about a girl...            1   \n",
      "4          A girl wears a red hood and meets a wolf.            2   \n",
      "5                                 A girl and a wolf.            3   \n",
      "6                    La connaissance est le pouvoir.            1   \n",
      "7                                Savoir c'est force.            2   \n",
      "8                        Connaissance est puissance.            3   \n",
      "\n",
      "   quality_label  \n",
      "0              2  \n",
      "1              1  \n",
      "2              0  \n",
      "3              2  \n",
      "4              1  \n",
      "5              0  \n",
      "6              2  \n",
      "7              1  \n",
      "8              0  \n"
     ]
    }
   ],
   "source": [
    "import pandas as pd\n",
    "\n",
    "# فرض کن فایل CSV رو بارگذاری کردی\n",
    "df = pd.read_csv('prompt_response_dataset.csv')\n",
    "\n",
    "# تعداد پرامپت‌ها (تعداد کل ردیف تقسیم بر 3)\n",
    "num_prompts = len(df) // 3\n",
    "\n",
    "labels = []\n",
    "for _ in range(num_prompts):\n",
    "    labels.extend([2, 1, 0])\n",
    "\n",
    "df['quality_label'] = labels\n",
    "\n",
    "print(df.head(9))\n"
   ]
  },
  {
   "cell_type": "code",
   "execution_count": 12,
   "id": "8d5c126e",
   "metadata": {},
   "outputs": [
    {
     "name": "stdout",
     "output_type": "stream",
     "text": [
      "Total rows: 60\n",
      "Total rows: 60\n",
      "Total rows: 60\n"
     ]
    }
   ],
   "source": [
    "# روش 1: استفاده از len\n",
    "print('Total rows:', len(df))\n",
    "\n",
    "# روش 2: استفاده از shape (تعداد ردیف‌ها اولین مقدار در shape است)\n",
    "print('Total rows:', df.shape[0])\n",
    "\n",
    "# روش 3: استفاده از تابع count روی یک ستون (مثلا اولین ستون)\n",
    "print('Total rows:', df['prompt'].count())\n"
   ]
  },
  {
   "cell_type": "code",
   "execution_count": null,
   "id": "c40a2f34",
   "metadata": {},
   "outputs": [],
   "source": [
    "!pip install sentence-transformers\n"
   ]
  },
  {
   "cell_type": "code",
   "execution_count": 21,
   "id": "f85d2c0b",
   "metadata": {},
   "outputs": [
    {
     "name": "stdout",
     "output_type": "stream",
     "text": [
      "Index(['prompt', 'response', 'response_id', 'prompt_emb', 'response_emb',\n",
      "       'prompt_response_sim', 'length', 'quality_label'],\n",
      "      dtype='object')\n"
     ]
    }
   ],
   "source": [
    "print(df.columns)\n"
   ]
  },
  {
   "cell_type": "code",
   "execution_count": 18,
   "id": "05eead6d",
   "metadata": {},
   "outputs": [],
   "source": [
    "# فرض: هر 3 پاسخ مربوط به یک prompt هست، پس:\n",
    "labels = []\n",
    "num_prompts = len(df) // 3\n",
    "for _ in range(num_prompts):\n",
    "    labels.extend([2, 1, 0])\n",
    "\n",
    "# اضافه کردن به دیتافریم\n",
    "df['quality_label'] = labels\n"
   ]
  },
  {
   "cell_type": "code",
   "execution_count": 20,
   "id": "6f4c9de5",
   "metadata": {},
   "outputs": [],
   "source": [
    "y = df['quality_label']\n"
   ]
  },
  {
   "cell_type": "code",
   "execution_count": 25,
   "id": "32980f6e",
   "metadata": {},
   "outputs": [],
   "source": [
    "import pandas as pd\n",
    "\n",
    "# خواندن فایل CSV (فرض می‌کنیم نام فایل responses.csv است)\n",
    "df = pd.read_csv(\"prompt_response_dataset.csv\")\n",
    "\n",
    "# ساخت ستون کیفیت بر اساس response_id\n",
    "df['quality_label'] = df['response_id'].map({1: 2, 2: 1, 3: 0})\n"
   ]
  },
  {
   "cell_type": "code",
   "execution_count": 26,
   "id": "d654c8a0",
   "metadata": {},
   "outputs": [
    {
     "name": "stdout",
     "output_type": "stream",
     "text": [
      "                                              prompt  response_id  \\\n",
      "0    Explain the concept of gravity in simple terms.            1   \n",
      "1    Explain the concept of gravity in simple terms.            2   \n",
      "2    Explain the concept of gravity in simple terms.            3   \n",
      "3     Summarize the story of Little Red Riding Hood.            1   \n",
      "4     Summarize the story of Little Red Riding Hood.            2   \n",
      "5     Summarize the story of Little Red Riding Hood.            3   \n",
      "6  Translate the sentence 'Knowledge is power' in...            1   \n",
      "7  Translate the sentence 'Knowledge is power' in...            2   \n",
      "8  Translate the sentence 'Knowledge is power' in...            3   \n",
      "\n",
      "   quality_label  \n",
      "0              2  \n",
      "1              1  \n",
      "2              0  \n",
      "3              2  \n",
      "4              1  \n",
      "5              0  \n",
      "6              2  \n",
      "7              1  \n",
      "8              0  \n"
     ]
    }
   ],
   "source": [
    "print(df[['prompt', 'response_id', 'quality_label']].head(9))\n"
   ]
  },
  {
   "cell_type": "code",
   "execution_count": 28,
   "id": "beaedb1b",
   "metadata": {},
   "outputs": [],
   "source": [
    "from sentence_transformers import SentenceTransformer\n",
    "from sklearn.metrics.pairwise import cosine_similarity\n",
    "\n",
    "model = SentenceTransformer('all-MiniLM-L6-v2')\n",
    "\n",
    "# محاسبه طول پاسخ\n",
    "df['length'] = df['response'].apply(lambda x: len(x.split()))\n",
    "\n",
    "# استخراج embedding\n",
    "df['prompt_emb'] = df['prompt'].apply(lambda x: model.encode(x))\n",
    "df['response_emb'] = df['response'].apply(lambda x: model.encode(x))\n",
    "\n",
    "# شباهت معنایی\n",
    "df['prompt_response_sim'] = df.apply(lambda row: cosine_similarity(\n",
    "    [row['prompt_emb']], [row['response_emb']])[0][0], axis=1)\n"
   ]
  },
  {
   "cell_type": "code",
   "execution_count": 29,
   "id": "237df034",
   "metadata": {},
   "outputs": [
    {
     "name": "stdout",
     "output_type": "stream",
     "text": [
      "prompt                   Explain the concept of gravity in simple terms.\n",
      "response               Gravity is the force by which a planet or othe...\n",
      "length                                                                28\n",
      "prompt_response_sim                                             0.748191\n",
      "Name: 0, dtype: object\n"
     ]
    }
   ],
   "source": [
    "print(df[['prompt', 'response', 'length', 'prompt_response_sim']].iloc[0])\n"
   ]
  },
  {
   "cell_type": "code",
   "execution_count": 32,
   "id": "4b63c921",
   "metadata": {},
   "outputs": [
    {
     "data": {
      "text/html": [
       "<div>\n",
       "<style scoped>\n",
       "    .dataframe tbody tr th:only-of-type {\n",
       "        vertical-align: middle;\n",
       "    }\n",
       "\n",
       "    .dataframe tbody tr th {\n",
       "        vertical-align: top;\n",
       "    }\n",
       "\n",
       "    .dataframe thead th {\n",
       "        text-align: right;\n",
       "    }\n",
       "</style>\n",
       "<table border=\"1\" class=\"dataframe\">\n",
       "  <thead>\n",
       "    <tr style=\"text-align: right;\">\n",
       "      <th></th>\n",
       "      <th>prompt</th>\n",
       "      <th>response</th>\n",
       "      <th>response_id</th>\n",
       "      <th>quality_label</th>\n",
       "      <th>length</th>\n",
       "      <th>prompt_emb</th>\n",
       "      <th>response_emb</th>\n",
       "      <th>prompt_response_sim</th>\n",
       "    </tr>\n",
       "  </thead>\n",
       "  <tbody>\n",
       "    <tr>\n",
       "      <th>0</th>\n",
       "      <td>Explain the concept of gravity in simple terms.</td>\n",
       "      <td>Gravity is the force by which a planet or othe...</td>\n",
       "      <td>1</td>\n",
       "      <td>2</td>\n",
       "      <td>28</td>\n",
       "      <td>[-0.008768544, -0.02019046, -0.028785856, 0.02...</td>\n",
       "      <td>[0.04485038, -0.021242986, -0.037762687, -0.01...</td>\n",
       "      <td>0.748191</td>\n",
       "    </tr>\n",
       "    <tr>\n",
       "      <th>1</th>\n",
       "      <td>Explain the concept of gravity in simple terms.</td>\n",
       "      <td>Gravity is like a magnet that pulls things dow...</td>\n",
       "      <td>2</td>\n",
       "      <td>1</td>\n",
       "      <td>12</td>\n",
       "      <td>[-0.008768544, -0.02019046, -0.028785856, 0.02...</td>\n",
       "      <td>[0.010639647, -0.03844929, 0.059268467, 0.0307...</td>\n",
       "      <td>0.716368</td>\n",
       "    </tr>\n",
       "    <tr>\n",
       "      <th>2</th>\n",
       "      <td>Explain the concept of gravity in simple terms.</td>\n",
       "      <td>Gravity is when things fall down.</td>\n",
       "      <td>3</td>\n",
       "      <td>0</td>\n",
       "      <td>6</td>\n",
       "      <td>[-0.008768544, -0.02019046, -0.028785856, 0.02...</td>\n",
       "      <td>[0.017064612, -0.038668144, 0.024358915, 0.026...</td>\n",
       "      <td>0.699851</td>\n",
       "    </tr>\n",
       "    <tr>\n",
       "      <th>3</th>\n",
       "      <td>Summarize the story of Little Red Riding Hood.</td>\n",
       "      <td>Little Red Riding Hood is a story about a girl...</td>\n",
       "      <td>1</td>\n",
       "      <td>2</td>\n",
       "      <td>23</td>\n",
       "      <td>[-0.00047453618, 0.11129878, -0.081909046, 0.1...</td>\n",
       "      <td>[-0.001987651, 0.02928372, -0.04755717, 0.1297...</td>\n",
       "      <td>0.779903</td>\n",
       "    </tr>\n",
       "    <tr>\n",
       "      <th>4</th>\n",
       "      <td>Summarize the story of Little Red Riding Hood.</td>\n",
       "      <td>A girl wears a red hood and meets a wolf.</td>\n",
       "      <td>2</td>\n",
       "      <td>1</td>\n",
       "      <td>10</td>\n",
       "      <td>[-0.00047453618, 0.11129878, -0.081909046, 0.1...</td>\n",
       "      <td>[-0.023492789, -0.017843895, -0.0028641128, 0....</td>\n",
       "      <td>0.437633</td>\n",
       "    </tr>\n",
       "  </tbody>\n",
       "</table>\n",
       "</div>"
      ],
      "text/plain": [
       "                                            prompt  \\\n",
       "0  Explain the concept of gravity in simple terms.   \n",
       "1  Explain the concept of gravity in simple terms.   \n",
       "2  Explain the concept of gravity in simple terms.   \n",
       "3   Summarize the story of Little Red Riding Hood.   \n",
       "4   Summarize the story of Little Red Riding Hood.   \n",
       "\n",
       "                                            response  response_id  \\\n",
       "0  Gravity is the force by which a planet or othe...            1   \n",
       "1  Gravity is like a magnet that pulls things dow...            2   \n",
       "2                  Gravity is when things fall down.            3   \n",
       "3  Little Red Riding Hood is a story about a girl...            1   \n",
       "4          A girl wears a red hood and meets a wolf.            2   \n",
       "\n",
       "   quality_label  length                                         prompt_emb  \\\n",
       "0              2      28  [-0.008768544, -0.02019046, -0.028785856, 0.02...   \n",
       "1              1      12  [-0.008768544, -0.02019046, -0.028785856, 0.02...   \n",
       "2              0       6  [-0.008768544, -0.02019046, -0.028785856, 0.02...   \n",
       "3              2      23  [-0.00047453618, 0.11129878, -0.081909046, 0.1...   \n",
       "4              1      10  [-0.00047453618, 0.11129878, -0.081909046, 0.1...   \n",
       "\n",
       "                                        response_emb  prompt_response_sim  \n",
       "0  [0.04485038, -0.021242986, -0.037762687, -0.01...             0.748191  \n",
       "1  [0.010639647, -0.03844929, 0.059268467, 0.0307...             0.716368  \n",
       "2  [0.017064612, -0.038668144, 0.024358915, 0.026...             0.699851  \n",
       "3  [-0.001987651, 0.02928372, -0.04755717, 0.1297...             0.779903  \n",
       "4  [-0.023492789, -0.017843895, -0.0028641128, 0....             0.437633  "
      ]
     },
     "execution_count": 32,
     "metadata": {},
     "output_type": "execute_result"
    }
   ],
   "source": [
    "pd.set_option('display.max_columns', None)  # نمایش همه ستون‌ها\n",
    "pd.set_option('display.max_rows', 100)      # تنظیم نمایش تا 100 ردیف (یا بیشتر)\n",
    "df.head(5)  # نمایش 10 ردیف اول\n"
   ]
  },
  {
   "cell_type": "code",
   "execution_count": 33,
   "id": "97e3724c",
   "metadata": {},
   "outputs": [],
   "source": [
    "df.drop(columns=['prompt_emb', 'response_emb']).to_csv(\"llm_responses_features.csv\", index=False)\n"
   ]
  }
 ],
 "metadata": {
  "kernelspec": {
   "display_name": "Python 3",
   "language": "python",
   "name": "python3"
  },
  "language_info": {
   "codemirror_mode": {
    "name": "ipython",
    "version": 3
   },
   "file_extension": ".py",
   "mimetype": "text/x-python",
   "name": "python",
   "nbconvert_exporter": "python",
   "pygments_lexer": "ipython3",
   "version": "3.11.3"
  }
 },
 "nbformat": 4,
 "nbformat_minor": 5
}
