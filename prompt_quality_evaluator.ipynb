{
 "cells": [
  {
   "cell_type": "code",
   "execution_count": 1,
   "id": "b4600427",
   "metadata": {},
   "outputs": [
    {
     "name": "stdout",
     "output_type": "stream",
     "text": [
      "1. Explain the concept of gravity in simple terms.\n",
      "2. Summarize the story of Little Red Riding Hood.\n",
      "3. Translate the sentence 'Knowledge is power' into French.\n",
      "4. Write a polite email to request a meeting with your professor.\n",
      "5. Give an example of a metaphor and explain it.\n"
     ]
    }
   ],
   "source": [
    "# Cell 1: Define sample prompts for LLM tasks\n",
    "\n",
    "sample_prompts = [\n",
    "    \"Explain the concept of gravity in simple terms.\",\n",
    "    \"Summarize the story of Little Red Riding Hood.\",\n",
    "    \"Translate the sentence 'Knowledge is power' into French.\",\n",
    "    \"Write a polite email to request a meeting with your professor.\",\n",
    "    \"Give an example of a metaphor and explain it.\",\n",
    "    \"What are the benefits of drinking water regularly?\",\n",
    "    \"Write a short Python function to calculate factorial.\",\n",
    "    \"Describe the process of photosynthesis.\",\n",
    "    \"What is the capital of France?\",\n",
    "    \"Write a joke about cats.\",\n",
    "    \"Generate a tweet promoting a new coffee shop.\",\n",
    "    \"Explain blockchain technology in under 100 words.\",\n",
    "    \"Give three tips for effective time management.\",\n",
    "    \"Write a haiku about the moon.\",\n",
    "    \"Summarize the plot of 'Romeo and Juliet'.\",\n",
    "    \"List the prime numbers between 1 and 20.\",\n",
    "    \"Explain why the sky is blue.\",\n",
    "    \"Describe a solution to reduce plastic pollution.\",\n",
    "    \"Write a paragraph in favor of remote work.\",\n",
    "    \"Provide a synonym for the word 'beautiful' and use it in a sentence.\"\n",
    "]\n",
    "\n",
    "# Preview a few prompts\n",
    "for i, p in enumerate(sample_prompts[:5], 1):\n",
    "    print(f\"{i}. {p}\")\n"
   ]
  },
  {
   "cell_type": "code",
   "execution_count": 2,
   "id": "f439e489",
   "metadata": {},
   "outputs": [],
   "source": [
    "# Cell 2: Generate multiple LLM responses for each prompt\n",
    "\n",
    "import openai\n",
    "import time\n",
    "\n",
    "openai.api_key = \"YOUR_OPENAI_API_KEY\"  # Replace this with your actual key\n",
    "\n",
    "def get_llm_responses(prompt, n=3, model=\"gpt-3.5-turbo\", temperature=1.0, delay=1.5):\n",
    "    \"\"\"\n",
    "    Generate 'n' responses from an LLM for a given prompt.\n",
    "\n",
    "    Args:\n",
    "        prompt (str): The input prompt to the LLM.\n",
    "        n (int): Number of responses to generate. Default is 3.\n",
    "        model (str): OpenAI model to use. Default is 'gpt-3.5-turbo'.\n",
    "        temperature (float): Sampling temperature (higher = more diverse). Default is 1.0.\n",
    "        delay (float): Delay between requests in seconds. Default is 1.5.\n",
    "\n",
    "    Returns:\n",
    "        list[str]: A list of generated responses.\n",
    "    \"\"\"\n",
    "    responses = []\n",
    "    for _ in range(n):\n",
    "        try:\n",
    "            completion = openai.ChatCompletion.create(\n",
    "                model=model,\n",
    "                messages=[\n",
    "                    {\"role\": \"user\", \"content\": prompt}\n",
    "                ],\n",
    "                temperature=temperature\n",
    "            )\n",
    "            response = completion['choices'][0]['message']['content'].strip()\n",
    "            responses.append(response)\n",
    "            time.sleep(delay)  # avoid rate limits\n",
    "        except Exception as e:\n",
    "            print(f\"Error: {e}\")\n",
    "            responses.append(\"ERROR\")\n",
    "            time.sleep(delay)\n",
    "    return responses\n"
   ]
  }
 ],
 "metadata": {
  "kernelspec": {
   "display_name": "Python 3",
   "language": "python",
   "name": "python3"
  },
  "language_info": {
   "codemirror_mode": {
    "name": "ipython",
    "version": 3
   },
   "file_extension": ".py",
   "mimetype": "text/x-python",
   "name": "python",
   "nbconvert_exporter": "python",
   "pygments_lexer": "ipython3",
   "version": "3.11.3"
  }
 },
 "nbformat": 4,
 "nbformat_minor": 5
}
